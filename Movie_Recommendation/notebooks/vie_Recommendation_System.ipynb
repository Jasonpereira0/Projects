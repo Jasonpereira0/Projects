{
 "cells": [
  {
   "cell_type": "markdown",
   "metadata": {},
   "source": [
    ">Load the dataset"
   ]
  },
  {
   "cell_type": "code",
   "execution_count": 5,
   "metadata": {},
   "outputs": [
    {
     "name": "stdout",
     "output_type": "stream",
     "text": [
      "   userId  movieId  rating  timestamp                        title  \\\n",
      "0       1        1     4.0  964982703             Toy Story (1995)   \n",
      "1       1        3     4.0  964981247      Grumpier Old Men (1995)   \n",
      "2       1        6     4.0  964982224                  Heat (1995)   \n",
      "3       1       47     5.0  964983815  Seven (a.k.a. Se7en) (1995)   \n",
      "4       1       50     5.0  964982931   Usual Suspects, The (1995)   \n",
      "\n",
      "                                        genres  \n",
      "0  Adventure|Animation|Children|Comedy|Fantasy  \n",
      "1                               Comedy|Romance  \n",
      "2                        Action|Crime|Thriller  \n",
      "3                             Mystery|Thriller  \n",
      "4                       Crime|Mystery|Thriller  \n"
     ]
    }
   ],
   "source": [
    "import pandas as pd\n",
    "\n",
    "# Load data\n",
    "ratings = pd.read_csv('data/ratings.csv')\n",
    "movies = pd.read_csv('data/movies.csv')\n",
    "\n",
    "# Merge datasets\n",
    "data = pd.merge(ratings, movies, on='movieId')\n",
    "print(data.head())\n"
   ]
  },
  {
   "cell_type": "markdown",
   "metadata": {},
   "source": [
    ">Data Exploration and Cleaning"
   ]
  },
  {
   "cell_type": "code",
   "execution_count": 6,
   "metadata": {},
   "outputs": [
    {
     "name": "stdout",
     "output_type": "stream",
     "text": [
      "   userId  movieId  rating  timestamp                        title  \\\n",
      "0       1        1     4.0  964982703             Toy Story (1995)   \n",
      "1       1        3     4.0  964981247      Grumpier Old Men (1995)   \n",
      "2       1        6     4.0  964982224                  Heat (1995)   \n",
      "3       1       47     5.0  964983815  Seven (a.k.a. Se7en) (1995)   \n",
      "4       1       50     5.0  964982931   Usual Suspects, The (1995)   \n",
      "\n",
      "                                        genres  \n",
      "0  Adventure|Animation|Children|Comedy|Fantasy  \n",
      "1                               Comedy|Romance  \n",
      "2                        Action|Crime|Thriller  \n",
      "3                             Mystery|Thriller  \n",
      "4                       Crime|Mystery|Thriller  \n"
     ]
    }
   ],
   "source": [
    "import pandas as pd\n",
    "\n",
    "# Load data\n",
    "ratings = pd.read_csv('data/ratings.csv')\n",
    "movies = pd.read_csv('data/movies.csv')\n",
    "\n",
    "# Merge datasets\n",
    "data = pd.merge(ratings, movies, on='movieId')\n",
    "print(data.head())\n"
   ]
  },
  {
   "cell_type": "markdown",
   "metadata": {},
   "source": [
    ">Build a Recommendation Model"
   ]
  },
  {
   "cell_type": "code",
   "execution_count": 9,
   "metadata": {},
   "outputs": [],
   "source": [
    "#Collaborative Filtering Approach\n",
    "#Use the Surprise library to implement collaborative filtering based on user-item interactions.\n",
    "\n",
    "#Train-Test Split\n",
    "\n",
    "from surprise import Dataset, Reader\n",
    "from surprise.model_selection import train_test_split\n",
    "\n",
    "reader = Reader(rating_scale=(0.5, 5))\n",
    "dataset = Dataset.load_from_df(data[['userId', 'movieId', 'rating']], reader)\n",
    "trainset, testset = train_test_split(dataset, test_size=0.25)\n"
   ]
  },
  {
   "cell_type": "code",
   "execution_count": 13,
   "metadata": {},
   "outputs": [
    {
     "name": "stdout",
     "output_type": "stream",
     "text": [
      "RMSE: 0.8731\n",
      "RMSE: 0.8731203317355114\n"
     ]
    }
   ],
   "source": [
    "#Train a Model\n",
    "\n",
    "from surprise import SVD\n",
    "from surprise import accuracy\n",
    "\n",
    "model = SVD()  # Singular Value Decomposition algorithm\n",
    "model.fit(trainset)\n",
    "\n",
    "# Evaluate on test set\n",
    "predictions = model.test(testset)\n",
    "print(\"RMSE:\", accuracy.rmse(predictions))\n"
   ]
  },
  {
   "cell_type": "code",
   "execution_count": 14,
   "metadata": {},
   "outputs": [
    {
     "name": "stdout",
     "output_type": "stream",
     "text": [
      "[(318, 5), (904, 5), (908, 5), (912, 5), (930, 5)]\n"
     ]
    }
   ],
   "source": [
    "#Generate a Recomemndation\n",
    "\n",
    "def recommend(user_id, model, data, n=5):\n",
    "    user_movies = data[data['userId'] == user_id]['movieId'].unique()\n",
    "    all_movies = data['movieId'].unique()\n",
    "    recommendations = [movie for movie in all_movies if movie not in user_movies]\n",
    "\n",
    "    scores = [(movie, model.predict(user_id, movie).est) for movie in recommendations]\n",
    "    top_recommendations = sorted(scores, key=lambda x: x[1], reverse=True)[:n]\n",
    "    return top_recommendations\n",
    "\n",
    "print(recommend(1, model, data))\n",
    "\n"
   ]
  },
  {
   "cell_type": "markdown",
   "metadata": {},
   "source": [
    ">Insights and Visualization  \n",
    "\n",
    "Insights:  \n",
    "Show top-rated genres or movies.  \n",
    "Analyze user preferences by demographics (if available).  \n",
    "Compare RMSE with baseline models to validate performance.  "
   ]
  },
  {
   "cell_type": "code",
   "execution_count": 21,
   "metadata": {},
   "outputs": [
    {
     "data": {
      "image/png": "[encoded data removed]",
      "text/plain": [
       "<Figure size 640x480 with 1 Axes>"
      ]
     },
     "metadata": {},
     "output_type": "display_data"
    }
   ],
   "source": [
    "import os\n",
    "import matplotlib.pyplot as plt\n",
    "\n",
    "#Visualize Recommendations\n",
    "\n",
    "# Construct the path to the output directory relative to the data directory\n",
    "output_dir = 'output'\n",
    "\n",
    "# Ensure the output directory exists\n",
    "if not os.path.exists(output_dir):\n",
    "    os.makedirs(output_dir)\n",
    "\n",
    "# Example visualization of top recommendations\n",
    "top_movies = recommend(1, model, data)\n",
    "movie_titles = [movies[movies['movieId'] == m[0]]['title'].values[0] for m in top_movies]\n",
    "scores = [m[1] for m in top_movies]\n",
    "\n",
    "plt.barh(movie_titles, scores)\n",
    "plt.xlabel('Predicted Rating')\n",
    "plt.title('Top Recommendations')\n",
    "\n",
    "\n",
    "# Save the plot to the output directory\n",
    "output_path = os.path.join(output_dir, 'Top_Movie_Recommendations.png')\n",
    "plt.savefig(output_path)\n",
    "\n",
    "# Show the plot\n",
    "plt.show()\n"
   ]
  }
 ],
 "metadata": {
  "kernelspec": {
   "display_name": "base",
   "language": "python",
   "name": "python3"
  },
  "language_info": {
   "codemirror_mode": {
    "name": "ipython",
    "version": 3
   },
   "file_extension": ".py",
   "mimetype": "text/x-python",
   "name": "python",
   "nbconvert_exporter": "python",
   "pygments_lexer": "ipython3",
   "version": "3.12.3"
  }
 },
 "nbformat": 4,
 "nbformat_minor": 2
}
